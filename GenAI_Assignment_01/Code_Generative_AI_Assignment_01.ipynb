{
  "cells": [
    {
      "cell_type": "markdown",
      "source": [
        "**Question 01**"
      ],
      "metadata": {
        "id": "r4FesH4kuHjI"
      }
    },
    {
      "cell_type": "code",
      "source": [
        "import numpy as np\n",
        "import matplotlib.pyplot as plt\n",
        "from sklearn.metrics import classification_report, confusion_matrix\n",
        "from sklearn.model_selection import train_test_split\n",
        "from tensorflow.keras.datasets import cifar10\n",
        "from tensorflow.keras.models import Sequential\n",
        "from tensorflow.keras.layers import Conv2D, MaxPooling2D, Flatten, Dense, Dropout\n",
        "from tensorflow.keras.utils import to_categorical\n",
        "from tensorflow.keras.optimizers import Adam\n",
        "from tensorflow.keras.callbacks import EarlyStopping\n",
        "from tensorflow.keras.applications import ResNet50\n",
        "from tensorflow.keras.preprocessing.image import ImageDataGenerator"
      ],
      "metadata": {
        "id": "N5TGg4aYuK1A"
      },
      "execution_count": 2,
      "outputs": []
    },
    {
      "cell_type": "code",
      "source": [
        "# loading CIFAR-10 dataset\n",
        "(x_train, y_train), (x_test, y_test) = cifar10.load_data()\n",
        "x_train.shape, y_train.shape, x_test.shape, y_test.shape"
      ],
      "metadata": {
        "colab": {
          "base_uri": "https://localhost:8080/"
        },
        "id": "Y_E1LRrcuK3X",
        "outputId": "0aefea9c-5f8b-4fbe-b146-bdb16b85b1d0"
      },
      "execution_count": 3,
      "outputs": [
        {
          "output_type": "stream",
          "name": "stdout",
          "text": [
            "Downloading data from https://www.cs.toronto.edu/~kriz/cifar-10-python.tar.gz\n",
            "170498071/170498071 [==============================] - 4s 0us/step\n"
          ]
        },
        {
          "output_type": "execute_result",
          "data": {
            "text/plain": [
              "((50000, 32, 32, 3), (50000, 1), (10000, 32, 32, 3), (10000, 1))"
            ]
          },
          "metadata": {},
          "execution_count": 3
        }
      ]
    },
    {
      "cell_type": "code",
      "source": [
        "class_names = ['airplane', 'automobile', 'bird', 'cat', 'deer', 'dog', 'frog', 'horse', 'ship', 'truck']\n",
        "class_names"
      ],
      "metadata": {
        "colab": {
          "base_uri": "https://localhost:8080/"
        },
        "id": "aWzf_U86uK5z",
        "outputId": "2b2ada28-41c1-469b-e916-833adc68346e"
      },
      "execution_count": 4,
      "outputs": [
        {
          "output_type": "execute_result",
          "data": {
            "text/plain": [
              "['airplane',\n",
              " 'automobile',\n",
              " 'bird',\n",
              " 'cat',\n",
              " 'deer',\n",
              " 'dog',\n",
              " 'frog',\n",
              " 'horse',\n",
              " 'ship',\n",
              " 'truck']"
            ]
          },
          "metadata": {},
          "execution_count": 4
        }
      ]
    },
    {
      "cell_type": "code",
      "source": [
        "#function to display random sample of images\n",
        "def display_random_images(x_data, y_data, class_names, num_samples=10):\n",
        "    fig, axes = plt.subplots(nrows=10, ncols=num_samples, figsize=(15, 15))\n",
        "    for i, class_name in enumerate(class_names):\n",
        "        class_indices = np.where(y_data == i)[0]\n",
        "        random_indices = np.random.choice(class_indices, num_samples, replace=False)\n",
        "        for j, idx in enumerate(random_indices):\n",
        "            axes[i, j].imshow(x_data[idx])\n",
        "            axes[i, j].set_title(class_name)\n",
        "            axes[i, j].axis('off')\n",
        "    plt.tight_layout()\n",
        "    plt.show()"
      ],
      "metadata": {
        "id": "QYVZPhc1uK8C"
      },
      "execution_count": 5,
      "outputs": []
    },
    {
      "cell_type": "code",
      "source": [
        "#data preprocessing\n",
        "x_train = x_train.astype('float32') / 255.0\n",
        "x_test = x_test.astype('float32') / 255.0\n",
        "y_train = to_categorical(y_train, num_classes=10)\n",
        "y_test = to_categorical(y_test, num_classes=10)"
      ],
      "metadata": {
        "id": "eOW10K39uK-c"
      },
      "execution_count": 6,
      "outputs": []
    },
    {
      "cell_type": "code",
      "source": [
        "#splitting dataset into training, validation, and testing sets\n",
        "x_train, x_val, y_train, y_val = train_test_split(x_train, y_train, test_size=0.2, random_state=42)\n",
        "x_train.shape, x_val.shape, y_train.shape, y_val.shape"
      ],
      "metadata": {
        "colab": {
          "base_uri": "https://localhost:8080/"
        },
        "id": "E5ZoEv9CuTzN",
        "outputId": "99c3ecab-7b95-497a-d813-2e10debd0e36"
      },
      "execution_count": 7,
      "outputs": [
        {
          "output_type": "execute_result",
          "data": {
            "text/plain": [
              "((40000, 32, 32, 3), (10000, 32, 32, 3), (40000, 10), (10000, 10))"
            ]
          },
          "metadata": {},
          "execution_count": 7
        }
      ]
    },
    {
      "cell_type": "code",
      "source": [
        "#designing CNN\n",
        "model = Sequential([\n",
        "    Conv2D(32, (3, 3), activation='relu', input_shape=(32, 32, 3)),\n",
        "    MaxPooling2D((2, 2)),\n",
        "    Conv2D(64, (3, 3), activation='relu'),\n",
        "    MaxPooling2D((2, 2)),\n",
        "    Conv2D(64, (3, 3), activation='relu'),\n",
        "    Flatten(),\n",
        "    Dense(64, activation='relu'),\n",
        "    Dropout(0.5),\n",
        "    Dense(10, activation='softmax')\n",
        "])\n",
        "\n",
        "# Compile model\n",
        "model.compile(optimizer='adam', loss='categorical_crossentropy', metrics=['accuracy'])"
      ],
      "metadata": {
        "id": "NIzNcCtvuT19"
      },
      "execution_count": 8,
      "outputs": []
    },
    {
      "cell_type": "code",
      "source": [
        "#hyperparameter tuning\n",
        "early_stopping = EarlyStopping(monitor='val_loss', patience=3, restore_best_weights=True)\n",
        "\n",
        "#training model\n",
        "history = model.fit(x_train, y_train, epochs=10, batch_size=64, validation_data=(x_val, y_val), callbacks=[early_stopping])"
      ],
      "metadata": {
        "colab": {
          "base_uri": "https://localhost:8080/"
        },
        "id": "B19A-CaGuT4w",
        "outputId": "70f1c530-64ba-4f33-c43d-6751b516238f"
      },
      "execution_count": 10,
      "outputs": [
        {
          "output_type": "stream",
          "name": "stdout",
          "text": [
            "Epoch 1/10\n",
            "625/625 [==============================] - 29s 47ms/step - loss: 1.6007 - accuracy: 0.4115 - val_loss: 1.3845 - val_accuracy: 0.5061\n",
            "Epoch 2/10\n",
            "625/625 [==============================] - 28s 46ms/step - loss: 1.4305 - accuracy: 0.4831 - val_loss: 1.2628 - val_accuracy: 0.5509\n",
            "Epoch 3/10\n",
            "625/625 [==============================] - 28s 45ms/step - loss: 1.3201 - accuracy: 0.5319 - val_loss: 1.1525 - val_accuracy: 0.5974\n",
            "Epoch 4/10\n",
            "625/625 [==============================] - 29s 46ms/step - loss: 1.2348 - accuracy: 0.5637 - val_loss: 1.0923 - val_accuracy: 0.6080\n",
            "Epoch 5/10\n",
            "625/625 [==============================] - 29s 46ms/step - loss: 1.1702 - accuracy: 0.5906 - val_loss: 1.0502 - val_accuracy: 0.6241\n",
            "Epoch 6/10\n",
            "625/625 [==============================] - 28s 45ms/step - loss: 1.1064 - accuracy: 0.6163 - val_loss: 0.9910 - val_accuracy: 0.6454\n",
            "Epoch 7/10\n",
            "625/625 [==============================] - 28s 45ms/step - loss: 1.0678 - accuracy: 0.6256 - val_loss: 0.9763 - val_accuracy: 0.6496\n",
            "Epoch 8/10\n",
            "625/625 [==============================] - 28s 45ms/step - loss: 1.0215 - accuracy: 0.6433 - val_loss: 0.9308 - val_accuracy: 0.6763\n",
            "Epoch 9/10\n",
            "625/625 [==============================] - 29s 46ms/step - loss: 0.9845 - accuracy: 0.6574 - val_loss: 0.9008 - val_accuracy: 0.6785\n",
            "Epoch 10/10\n",
            "625/625 [==============================] - 28s 46ms/step - loss: 0.9504 - accuracy: 0.6690 - val_loss: 0.9067 - val_accuracy: 0.6840\n"
          ]
        }
      ]
    },
    {
      "cell_type": "code",
      "source": [
        "#evaluating performance on validation dataset\n",
        "val_loss, val_accuracy = model.evaluate(x_val, y_val)\n",
        "print(f'Validation Loss: {val_loss}, Validation Accuracy: {val_accuracy}')"
      ],
      "metadata": {
        "colab": {
          "base_uri": "https://localhost:8080/"
        },
        "id": "XCsggBNouT7m",
        "outputId": "2cb503a6-8b0e-49ce-b794-0265eed9a0a4"
      },
      "execution_count": 11,
      "outputs": [
        {
          "output_type": "stream",
          "name": "stdout",
          "text": [
            "313/313 [==============================] - 2s 7ms/step - loss: 0.9067 - accuracy: 0.6840\n",
            "Validation Loss: 0.9066862463951111, Validation Accuracy: 0.6840000152587891\n"
          ]
        }
      ]
    },
    {
      "cell_type": "code",
      "source": [
        "#plotting training and validation loss and accuracy\n",
        "plt.figure(figsize=(10, 5))\n",
        "plt.subplot(1, 2, 1)\n",
        "plt.plot(history.history['loss'], label='Training Loss')\n",
        "plt.plot(history.history['val_loss'], label='Validation Loss')\n",
        "plt.xlabel('Epoch')\n",
        "plt.ylabel('Loss')\n",
        "plt.legend()\n",
        "plt.subplot(1, 2, 2)\n",
        "plt.plot(history.history['accuracy'], label='Training Accuracy')\n",
        "plt.plot(history.history['val_accuracy'], label='Validation Accuracy')\n",
        "plt.xlabel('Epoch')\n",
        "plt.ylabel('Accuracy')\n",
        "plt.legend()\n",
        "plt.show()"
      ],
      "metadata": {
        "colab": {
          "base_uri": "https://localhost:8080/",
          "height": 465
        },
        "id": "86c8q2siuT-D",
        "outputId": "b1e187d3-60d9-4cfa-ca55-bfb76965ed1e"
      },
      "execution_count": 12,
      "outputs": [
        {
          "output_type": "display_data",
          "data": {
            "text/plain": [
              "<Figure size 1000x500 with 2 Axes>"
            ],
            "image/png": "[encoded data removed]"
          },
          "metadata": {}
        }
      ]
    },
    {
      "cell_type": "code",
      "source": [
        "#credict classes for test set\n",
        "y_pred = model.predict(x_test)\n",
        "y_pred_classes = np.argmax(y_pred, axis=1)\n",
        "y_true_classes = np.argmax(y_test, axis=1)"
      ],
      "metadata": {
        "colab": {
          "base_uri": "https://localhost:8080/"
        },
        "id": "irF1cT_BuUAz",
        "outputId": "f4fd46b8-9d21-4dba-9e1a-8ec6c5ed860f"
      },
      "execution_count": 13,
      "outputs": [
        {
          "output_type": "stream",
          "name": "stdout",
          "text": [
            "313/313 [==============================] - 2s 7ms/step\n"
          ]
        }
      ]
    },
    {
      "cell_type": "code",
      "source": [
        "#classification report\n",
        "print(classification_report(y_true_classes, y_pred_classes, target_names=class_names))"
      ],
      "metadata": {
        "colab": {
          "base_uri": "https://localhost:8080/"
        },
        "id": "awo3mFtXuUDn",
        "outputId": "6af290fa-b2af-47c0-c009-5dcc2b550e5d"
      },
      "execution_count": 14,
      "outputs": [
        {
          "output_type": "stream",
          "name": "stdout",
          "text": [
            "              precision    recall  f1-score   support\n",
            "\n",
            "    airplane       0.80      0.66      0.72      1000\n",
            "  automobile       0.76      0.90      0.82      1000\n",
            "        bird       0.60      0.52      0.56      1000\n",
            "         cat       0.47      0.45      0.46      1000\n",
            "        deer       0.63      0.63      0.63      1000\n",
            "         dog       0.52      0.65      0.58      1000\n",
            "        frog       0.73      0.79      0.76      1000\n",
            "       horse       0.78      0.68      0.73      1000\n",
            "        ship       0.77      0.84      0.81      1000\n",
            "       truck       0.85      0.74      0.79      1000\n",
            "\n",
            "    accuracy                           0.69     10000\n",
            "   macro avg       0.69      0.69      0.69     10000\n",
            "weighted avg       0.69      0.69      0.69     10000\n",
            "\n"
          ]
        }
      ]
    },
    {
      "cell_type": "code",
      "source": [
        "#confusion matrix\n",
        "conf_matrix = confusion_matrix(y_true_classes, y_pred_classes)\n",
        "print(\"Confusion Matrix:\")\n",
        "print(conf_matrix)"
      ],
      "metadata": {
        "colab": {
          "base_uri": "https://localhost:8080/"
        },
        "id": "ldMJbD9fuUG4",
        "outputId": "6552c8fe-0796-4dd1-8052-683ebd3d98c1"
      },
      "execution_count": 15,
      "outputs": [
        {
          "output_type": "stream",
          "name": "stdout",
          "text": [
            "Confusion Matrix:\n",
            "[[660  40  66  19  16  15  11  11 119  43]\n",
            " [  7 898   1   9   7   5  11   3  23  36]\n",
            " [ 51   7 517  94  92 124  71  21  16   7]\n",
            " [ 12  11  57 448  68 266  81  25  18  14]\n",
            " [ 12   5  75  72 633  46  72  67  15   3]\n",
            " [ 10   2  49 169  48 653  24  39   3   3]\n",
            " [  8   7  47  73  36  17 792   8   7   5]\n",
            " [ 14   6  29  39  93 117   8 681   2  11]\n",
            " [ 38  60  14  19   3   6   6   2 839  13]\n",
            " [ 11 142   6  13   7   8  16  15  41 741]]\n"
          ]
        }
      ]
    },
    {
      "cell_type": "code",
      "source": [
        "#ROC Curve and AUC are not applicable for multi-class classification\n",
        "#In binary classification ROC curve and AUC are used to evaluate performance.\n",
        "\n",
        "#confusion matrix\n",
        "plt.figure(figsize=(8, 6))\n",
        "plt.imshow(conf_matrix, interpolation='nearest', cmap=plt.cm.Blues)\n",
        "plt.title('Confusion Matrix')\n",
        "plt.colorbar()\n",
        "tick_marks = np.arange(len(class_names))\n",
        "plt.xticks(tick_marks, class_names, rotation=45)\n",
        "plt.yticks(tick_marks, class_names)\n",
        "plt.ylabel('True label')\n",
        "plt.xlabel('Predicted label')\n",
        "plt.tight_layout()\n",
        "plt.show()"
      ],
      "metadata": {
        "colab": {
          "base_uri": "https://localhost:8080/",
          "height": 607
        },
        "id": "buu1ZwOuuUZD",
        "outputId": "e6a9e279-7145-4a19-9e50-05d965458ab5"
      },
      "execution_count": 16,
      "outputs": [
        {
          "output_type": "display_data",
          "data": {
            "text/plain": [
              "<Figure size 800x600 with 2 Axes>"
            ],
            "image/png": "[encoded data removed]"
          },
          "metadata": {}
        }
      ]
    },
    {
      "cell_type": "code",
      "source": [],
      "metadata": {
        "id": "cWKpOX0NuLA1"
      },
      "execution_count": null,
      "outputs": []
    },
    {
      "cell_type": "markdown",
      "source": [
        "**Question 02**"
      ],
      "metadata": {
        "id": "fxno0HuDp83D"
      }
    },
    {
      "cell_type": "code",
      "execution_count": 31,
      "metadata": {
        "colab": {
          "base_uri": "https://localhost:8080/"
        },
        "id": "25j5s8FGBDWw",
        "outputId": "7505e98f-8782-4890-9d8b-4179766f3dc6"
      },
      "outputs": [
        {
          "output_type": "stream",
          "name": "stdout",
          "text": [
            "Files already downloaded and verified\n",
            "Files already downloaded and verified\n",
            "Epoch: 1, Batch: 0, Loss: 0.30944475531578064\n",
            "Epoch: 1, Batch: 100, Loss: 0.012982785701751709\n",
            "Epoch: 1, Batch: 200, Loss: 0.006632328033447266\n",
            "Epoch: 1, Batch: 300, Loss: 0.005868629552423954\n",
            "Epoch: 1, Batch: 400, Loss: 0.003929890692234039\n",
            "Epoch: 1, Batch: 500, Loss: 0.003406760049983859\n",
            "Epoch: 1, Batch: 600, Loss: 0.0026559336110949516\n",
            "Epoch: 1, Batch: 700, Loss: 0.002968952991068363\n",
            "Epoch: 2, Batch: 0, Loss: 0.002156006870791316\n",
            "Epoch: 2, Batch: 100, Loss: 0.0017436979105696082\n",
            "Epoch: 2, Batch: 200, Loss: 0.002183454344049096\n",
            "Epoch: 2, Batch: 300, Loss: 0.0018212809227406979\n",
            "Epoch: 2, Batch: 400, Loss: 0.0014992784708738327\n",
            "Epoch: 2, Batch: 500, Loss: 0.001264656544663012\n",
            "Epoch: 2, Batch: 600, Loss: 0.0015431009232997894\n",
            "Epoch: 2, Batch: 700, Loss: 0.0011221610475331545\n",
            "Epoch: 3, Batch: 0, Loss: 0.001899569178931415\n",
            "Epoch: 3, Batch: 100, Loss: 0.0009737646905705333\n",
            "Epoch: 3, Batch: 200, Loss: 0.0012761334655806422\n",
            "Epoch: 3, Batch: 300, Loss: 0.0008929474279284477\n",
            "Epoch: 3, Batch: 400, Loss: 0.0012639897176995873\n",
            "Epoch: 3, Batch: 500, Loss: 0.0014269872335717082\n",
            "Epoch: 3, Batch: 600, Loss: 0.0009755358914844692\n",
            "Epoch: 3, Batch: 700, Loss: 0.0009260402875952423\n",
            "Epoch: 4, Batch: 0, Loss: 0.0008054894860833883\n",
            "Epoch: 4, Batch: 100, Loss: 0.0009825292509049177\n",
            "Epoch: 4, Batch: 200, Loss: 0.00201372429728508\n",
            "Epoch: 4, Batch: 300, Loss: 0.0006158341420814395\n",
            "Epoch: 4, Batch: 400, Loss: 0.0006019918364472687\n",
            "Epoch: 4, Batch: 500, Loss: 0.0010528796119615436\n",
            "Epoch: 4, Batch: 600, Loss: 0.00048413907643407583\n",
            "Epoch: 4, Batch: 700, Loss: 0.000621119630523026\n",
            "Epoch: 5, Batch: 0, Loss: 0.000688598898705095\n",
            "Epoch: 5, Batch: 100, Loss: 0.0009236762998625636\n",
            "Epoch: 5, Batch: 200, Loss: 0.0006151554407551885\n",
            "Epoch: 5, Batch: 300, Loss: 0.0003856026451103389\n",
            "Epoch: 5, Batch: 400, Loss: 0.00047729231300763786\n",
            "Epoch: 5, Batch: 500, Loss: 0.00045111699728295207\n",
            "Epoch: 5, Batch: 600, Loss: 0.0006889309734106064\n",
            "Epoch: 5, Batch: 700, Loss: 0.00045108929043635726\n",
            "Training Complete\n"
          ]
        }
      ],
      "source": [
        "import torch\n",
        "import torch.nn as nn\n",
        "import torch.nn.functional as F\n",
        "import torch.optim as optim\n",
        "from torchvision import datasets, transforms\n",
        "from torch.utils.data import DataLoader\n",
        "\n",
        "class RowLSTMPixelCNN(nn.Module):\n",
        "    def __init__(self, input_channels=3, num_filters=64, kernel_size=7, num_blocks=3):\n",
        "        super(RowLSTMPixelCNN, self).__init__()\n",
        "        self.num_filters = num_filters\n",
        "        self.kernel_size = kernel_size\n",
        "        self.input_channels = input_channels\n",
        "        self.conv_initial = nn.Conv2d(input_channels, num_filters, kernel_size, padding=kernel_size//2, padding_mode='zeros')\n",
        "\n",
        "        self.blocks = nn.ModuleList()\n",
        "        for _ in range(num_blocks):\n",
        "            self.blocks.append(nn.Sequential(\n",
        "                nn.Conv2d(num_filters, num_filters, kernel_size=1),\n",
        "                nn.BatchNorm2d(num_filters),\n",
        "                nn.ReLU(),\n",
        "            ))\n",
        "\n",
        "        self.lstm = nn.LSTM(input_size=num_filters, hidden_size=num_filters, num_layers=1, batch_first=True)\n",
        "        self.conv_final = nn.Conv2d(num_filters, input_channels, kernel_size=1)\n",
        "\n",
        "    def forward(self, x):\n",
        "        x = F.relu(self.conv_initial(x))\n",
        "        batch_size, channels, height, width = x.size()\n",
        "        x = x.permute(0, 2, 3, 1).contiguous()  # Reshape to (batch_size, height, width, channels) for row processing\n",
        "        x = x.view(batch_size * height, width, channels)  # Flatten height and width for LSTM\n",
        "\n",
        "        for block in self.blocks:\n",
        "            x = x.view(batch_size, height, width, channels)  # Reshape back to 4D for convolutions\n",
        "            x = x.permute(0, 3, 1, 2).contiguous()  # Back to (batch_size, channels, height, width)\n",
        "            x = block(x)\n",
        "            x = x.permute(0, 2, 3, 1).contiguous()  # Prepare for LSTM\n",
        "            x = x.view(batch_size * height, width, channels)  # Flatten for LSTM\n",
        "\n",
        "        x, _ = self.lstm(x)  # LSTM expects (batch, seq, feature)\n",
        "        x = x.view(batch_size, height, width, channels).permute(0, 3, 1, 2).contiguous()  # Reshape back to (batch_size, channels, height, width)\n",
        "        x = self.conv_final(x)\n",
        "        return x\n",
        "\n",
        "# Training parameters, dataset, dataloader, model initialization, and training loop follow from here, unchanged from your provided code.\n",
        "\n",
        "\n",
        "# Training parameters\n",
        "batch_size = 64\n",
        "epochs = 5\n",
        "lr = 0.0001\n",
        "\n",
        "# CIFAR-10 datasets and dataloaders\n",
        "transform = transforms.Compose([transforms.ToTensor()])\n",
        "train_dataset = datasets.CIFAR10(root='./data', train=True, download=True, transform=transform)\n",
        "train_loader = DataLoader(train_dataset, batch_size=batch_size, shuffle=True)\n",
        "\n",
        "test_dataset = datasets.CIFAR10(root='./data', train=False, download=True, transform=transform)\n",
        "test_loader = DataLoader(test_dataset, batch_size=batch_size, shuffle=False)\n",
        "\n",
        "\n",
        "# Initialize the model and optimizer\n",
        "device = torch.device(\"cuda\" if torch.cuda.is_available() else \"cpu\")\n",
        "model = RowLSTMPixelCNN().to(device)\n",
        "optimizer = optim.Adam(model.parameters(), lr=lr)\n",
        "\n",
        "# Training loop\n",
        "for epoch in range(epochs):\n",
        "    model.train()\n",
        "    for batch_idx, (data, _) in enumerate(train_loader):\n",
        "        data = data.to(device)\n",
        "        optimizer.zero_grad()\n",
        "        output = model(data)\n",
        "        loss = F.mse_loss(output, data)\n",
        "        loss.backward()\n",
        "        optimizer.step()\n",
        "\n",
        "        if batch_idx % 100 == 0:\n",
        "            print(f'Epoch: {epoch+1}, Batch: {batch_idx}, Loss: {loss.item()}')\n",
        "\n",
        "print(\"Training Complete\")\n"
      ]
    },
    {
      "cell_type": "code",
      "execution_count": 22,
      "metadata": {
        "id": "fcYH41t7-6nM"
      },
      "outputs": [],
      "source": [
        "\n",
        " def generate_images(model, seed_image, num_rows, num_cols):\n",
        "    generated_image = seed_image.copy()\n",
        "    generated_image_tensor = torch.tensor(seed_image, dtype=torch.float32).permute(2, 0, 1).unsqueeze(0).to(device)\n",
        "    with torch.no_grad():\n",
        "        for i in range(num_rows):\n",
        "            for j in range(num_cols):\n",
        "                output = model(generated_image_tensor)\n",
        "                next_pixel = output[0, :, i, j].cpu().numpy()\n",
        "                generated_image[i, j] = next_pixel\n",
        "                generated_image_tensor = torch.tensor(generated_image, dtype=torch.float32).permute(2, 0, 1).unsqueeze(0).to(device)\n",
        "    return generated_image\n",
        "# Generate sample images\n",
        "import numpy as np\n",
        "input_shape = (32, 32, 3)\n",
        "seed_image = np.zeros(input_shape)\n",
        "generated_image = generate_images(model, seed_image, num_rows=32, num_cols=32)"
      ]
    },
    {
      "cell_type": "code",
      "execution_count": 23,
      "metadata": {
        "colab": {
          "base_uri": "https://localhost:8080/",
          "height": 444
        },
        "id": "Cixn-CSnDy6p",
        "outputId": "93e13bdf-d19e-4245-d6ee-82f61c635445"
      },
      "outputs": [
        {
          "output_type": "stream",
          "name": "stderr",
          "text": [
            "WARNING:matplotlib.image:Clipping input data to the valid range for imshow with RGB data ([0..1] for floats or [0..255] for integers).\n"
          ]
        },
        {
          "output_type": "display_data",
          "data": {
            "text/plain": [
              "<Figure size 640x480 with 1 Axes>"
            ],
            "image/png": "[encoded data removed]"
          },
          "metadata": {}
        }
      ],
      "source": [
        "import matplotlib.pyplot as plt\n",
        "\n",
        "def show_image(image):\n",
        "    plt.imshow(image)\n",
        "    plt.axis('off')\n",
        "    plt.show()\n",
        "\n",
        "# Generate sample images\n",
        "import numpy as np\n",
        "input_shape = (32, 32, 3)\n",
        "seed_image = np.zeros(input_shape)\n",
        "generated_image = generate_images(model, seed_image, num_rows=32, num_cols=32)\n",
        "\n",
        "# Show generated image\n",
        "show_image(generated_image)\n"
      ]
    },
    {
      "cell_type": "code",
      "source": [
        "# Evaluate log-likelihood\n",
        "def compute_log_likelihood(model, data_loader):\n",
        "    model.eval()\n",
        "    log_likelihoods = []\n",
        "    with torch.no_grad():\n",
        "        for data, _ in data_loader:\n",
        "            data = data.to(device)\n",
        "            output = model(data)\n",
        "            # Compute log probabilities using a suitable probability distribution function\n",
        "            # Compute the log-likelihood for each image and append to log_likelihoods\n",
        "    return torch.mean(torch.tensor(log_likelihoods))\n",
        "\n",
        "log_likelihood = compute_log_likelihood(model, test_loader)\n",
        "print(f'Log-Likelihood: {log_likelihood}')\n",
        "\n",
        "# Evaluate FID\n",
        "# You need to implement or use existing FID computation methods\n"
      ],
      "metadata": {
        "colab": {
          "base_uri": "https://localhost:8080/"
        },
        "id": "_quJyELRho1x",
        "outputId": "0181a056-41f1-43a9-f019-1ffbea5858ba"
      },
      "execution_count": 20,
      "outputs": [
        {
          "output_type": "stream",
          "name": "stdout",
          "text": [
            "Log-Likelihood: nan\n"
          ]
        }
      ]
    },
    {
      "cell_type": "code",
      "source": [],
      "metadata": {
        "id": "Tx5JNrq3hqq0"
      },
      "execution_count": null,
      "outputs": []
    },
    {
      "cell_type": "markdown",
      "source": [
        "**Question 03**"
      ],
      "metadata": {
        "id": "jZSNAgxqomiz"
      }
    },
    {
      "cell_type": "code",
      "source": [
        "import torch\n",
        "import torch.nn as nn\n",
        "import torch.nn.functional as F\n",
        "import torch.optim as optim\n",
        "from torchvision import datasets, transforms\n",
        "from torch.utils.data import DataLoader\n",
        "import pytorch_lightning as pl\n",
        "\n",
        "# pixelCNN Class\n",
        "class PixelCNN(pl.LightningModule):\n",
        "    def __init__(self, input_channels=3, num_filters=64, kernel_size=7, num_blocks=3, variant='A'):\n",
        "        super(PixelCNN, self).__init__()\n",
        "        self.num_filters = num_filters\n",
        "        self.kernel_size = kernel_size\n",
        "        self.input_channels = input_channels\n",
        "        self.conv_initial = nn.Conv2d(input_channels, num_filters, kernel_size, padding=kernel_size//2, padding_mode='zeros')\n",
        "        self.blocks = nn.ModuleList()\n",
        "        if variant == 'C':\n",
        "            self.blocks.append(nn.Conv2d(num_filters, num_filters, kernel_size=1))\n",
        "            self.blocks.append(nn.BatchNorm2d(num_filters))\n",
        "            self.blocks.append(nn.ReLU())\n",
        "            self.blocks.append(nn.Conv2d(num_filters, num_filters, kernel_size=3, padding=1))\n",
        "            self.blocks.append(nn.BatchNorm2d(num_filters))\n",
        "            self.blocks.append(nn.ReLU())\n",
        "            num_blocks -= 1\n",
        "        for _ in range(num_blocks):\n",
        "            self.blocks.append(nn.Sequential(\n",
        "                nn.Conv2d(num_filters, num_filters, kernel_size=1),\n",
        "                nn.BatchNorm2d(num_filters),\n",
        "                nn.ReLU(),\n",
        "            ))\n",
        "        self.conv_final = nn.Conv2d(num_filters, input_channels, kernel_size=1)\n",
        "\n",
        "    def forward(self, x):\n",
        "        x = F.relu(self.conv_initial(x))\n",
        "        for block in self.blocks:\n",
        "            x = block(x)\n",
        "        x = self.conv_final(x)\n",
        "        return x\n",
        "\n",
        "    def training_step(self, batch, batch_idx):\n",
        "        data, _ = batch\n",
        "        output = self(data)\n",
        "        loss = F.mse_loss(output, data)\n",
        "        self.log('train_loss', loss)\n",
        "        return loss\n",
        "\n",
        "    def configure_optimizers(self):\n",
        "        return optim.Adam(self.parameters(), lr=0.001)\n",
        "\n",
        "#data loading and initialization\n",
        "transform = transforms.Compose([transforms.ToTensor()])\n",
        "train_dataset = datasets.CIFAR10(root='./data', train=True, download=True, transform=transform)\n",
        "train_loader = DataLoader(train_dataset, batch_size=128, shuffle=True)\n",
        "test_dataset = datasets.CIFAR10(root='./data', train=False, download=True, transform=transform)\n",
        "test_loader = DataLoader(test_dataset, batch_size=128, shuffle=False)\n",
        "\n",
        "device = torch.device(\"cuda\" if torch.cuda.is_available() else \"cpu\")\n",
        "\n",
        "#adjust trainer initialization for GPU configuration\n",
        "def get_trainer():\n",
        "    if torch.cuda.is_available():\n",
        "        return pl.Trainer(max_epochs=10, devices=1, accelerator=\"gpu\")\n",
        "    else:\n",
        "        return pl.Trainer(max_epochs=10)\n",
        "\n",
        "\n",
        "#train PixelCNN Variants\n",
        "variants = ['A', 'B', 'C']\n",
        "for variant in variants:\n",
        "    pixelcnn_variant = PixelCNN(variant=variant).to(device)\n",
        "    trainer = get_trainer()\n",
        "    trainer.fit(pixelcnn_variant, train_loader)\n"
      ],
      "metadata": {
        "colab": {
          "base_uri": "https://localhost:8080/",
          "height": 1000,
          "referenced_widgets": [
            "0537e0a6eee04c1da47469bdd6b15aee",
            "9fabd608f98543cb8b5904a322eac689",
            "2182caad736c4eb69454ed4ef036c8cc",
            "4eec8b2394624b1db89bf2ba8f7c94ad",
            "e288c34438634a0c92962f53163480d4",
            "f1723c64578145ca9489c8067bae484b",
            "987be9338a97419d8954d3d359a1ac0c",
            "9685527916cc4f5aa8e377a35b2c3497",
            "b899db5aa5c24d27a40f04133279db96",
            "e3039821ef664b1c94f1af503eeeb076",
            "274e3a9a223842f58ef2bc83b1d1e6d5",
            "f52d07f539d04702b21c914300da8649",
            "5bbd1dab50604f42a69713ffa7824627",
            "eb9ec7bca1b64eae8e8db44da71c576d",
            "621cc4433e5444ada206b9c7620c78cd",
            "a76239d5872b423b837eb4c2e9267ebb",
            "0e10bcb7e8fe4b82a2e60c53b68260e7",
            "5c0b14518cae4b5eac3f63c8e8e7ef9e",
            "ef0d81adf60240089529a0d0e7bed33e",
            "103892b6ce094a6f963e57ceae8cbc17",
            "46f83aeafcfb4b7b8ea97aa4d08a62f5",
            "59fdd40ccb2b4bc58b22f0a325ddbf40",
            "6933b84328ff457eb46861a1f9be3449",
            "9bee5c0399f04e888f766103ffb6051a",
            "4fa17bd2fedd411b9e232c8028a894cf",
            "25efd163c1644a77b581037d73051d2d",
            "20570c7540024c7ea62798d7e68ce3a1",
            "7576bbd5e98443b78bbca00c155d743e",
            "a5d12cc249554e6da241eaa397ec482a",
            "b221621bc9494f1cae149991076c0746",
            "967b656851204c729484e382fcb9b55d",
            "37db3f81f1db4e73a4980ca251bf6baa",
            "918bd04f1b024c829118f30f4e3749fa"
          ]
        },
        "id": "fIBKlvuwlVvz",
        "outputId": "fd15f420-6fc3-4c8b-a18e-fee8045a4752"
      },
      "execution_count": 2,
      "outputs": [
        {
          "output_type": "stream",
          "name": "stdout",
          "text": [
            "Files already downloaded and verified\n",
            "Files already downloaded and verified\n"
          ]
        },
        {
          "output_type": "stream",
          "name": "stderr",
          "text": [
            "INFO:pytorch_lightning.utilities.rank_zero:GPU available: True (cuda), used: True\n",
            "INFO:pytorch_lightning.utilities.rank_zero:TPU available: False, using: 0 TPU cores\n",
            "INFO:pytorch_lightning.utilities.rank_zero:IPU available: False, using: 0 IPUs\n",
            "INFO:pytorch_lightning.utilities.rank_zero:HPU available: False, using: 0 HPUs\n",
            "INFO:pytorch_lightning.accelerators.cuda:LOCAL_RANK: 0 - CUDA_VISIBLE_DEVICES: [0]\n",
            "INFO:pytorch_lightning.callbacks.model_summary:\n",
            "  | Name         | Type       | Params\n",
            "--------------------------------------------\n",
            "0 | conv_initial | Conv2d     | 9.5 K \n",
            "1 | blocks       | ModuleList | 12.9 K\n",
            "2 | conv_final   | Conv2d     | 195   \n",
            "--------------------------------------------\n",
            "22.5 K    Trainable params\n",
            "0         Non-trainable params\n",
            "22.5 K    Total params\n",
            "0.090     Total estimated model params size (MB)\n"
          ]
        },
        {
          "output_type": "display_data",
          "data": {
            "text/plain": [
              "Training: |          | 0/? [00:00<?, ?it/s]"
            ],
            "application/vnd.jupyter.widget-view+json": {
              "version_major": 2,
              "version_minor": 0,
              "model_id": "0537e0a6eee04c1da47469bdd6b15aee"
            }
          },
          "metadata": {}
        },
        {
          "output_type": "stream",
          "name": "stderr",
          "text": [
            "INFO:pytorch_lightning.utilities.rank_zero:`Trainer.fit` stopped: `max_epochs=10` reached.\n",
            "INFO:pytorch_lightning.utilities.rank_zero:GPU available: True (cuda), used: True\n",
            "INFO:pytorch_lightning.utilities.rank_zero:TPU available: False, using: 0 TPU cores\n",
            "INFO:pytorch_lightning.utilities.rank_zero:IPU available: False, using: 0 IPUs\n",
            "INFO:pytorch_lightning.utilities.rank_zero:HPU available: False, using: 0 HPUs\n",
            "INFO:pytorch_lightning.accelerators.cuda:LOCAL_RANK: 0 - CUDA_VISIBLE_DEVICES: [0]\n",
            "INFO:pytorch_lightning.callbacks.model_summary:\n",
            "  | Name         | Type       | Params\n",
            "--------------------------------------------\n",
            "0 | conv_initial | Conv2d     | 9.5 K \n",
            "1 | blocks       | ModuleList | 12.9 K\n",
            "2 | conv_final   | Conv2d     | 195   \n",
            "--------------------------------------------\n",
            "22.5 K    Trainable params\n",
            "0         Non-trainable params\n",
            "22.5 K    Total params\n",
            "0.090     Total estimated model params size (MB)\n"
          ]
        },
        {
          "output_type": "display_data",
          "data": {
            "text/plain": [
              "Training: |          | 0/? [00:00<?, ?it/s]"
            ],
            "application/vnd.jupyter.widget-view+json": {
              "version_major": 2,
              "version_minor": 0,
              "model_id": "f52d07f539d04702b21c914300da8649"
            }
          },
          "metadata": {}
        },
        {
          "output_type": "stream",
          "name": "stderr",
          "text": [
            "INFO:pytorch_lightning.utilities.rank_zero:`Trainer.fit` stopped: `max_epochs=10` reached.\n",
            "INFO:pytorch_lightning.utilities.rank_zero:GPU available: True (cuda), used: True\n",
            "INFO:pytorch_lightning.utilities.rank_zero:TPU available: False, using: 0 TPU cores\n",
            "INFO:pytorch_lightning.utilities.rank_zero:IPU available: False, using: 0 IPUs\n",
            "INFO:pytorch_lightning.utilities.rank_zero:HPU available: False, using: 0 HPUs\n",
            "INFO:pytorch_lightning.accelerators.cuda:LOCAL_RANK: 0 - CUDA_VISIBLE_DEVICES: [0]\n",
            "INFO:pytorch_lightning.callbacks.model_summary:\n",
            "  | Name         | Type       | Params\n",
            "--------------------------------------------\n",
            "0 | conv_initial | Conv2d     | 9.5 K \n",
            "1 | blocks       | ModuleList | 49.9 K\n",
            "2 | conv_final   | Conv2d     | 195   \n",
            "--------------------------------------------\n",
            "59.6 K    Trainable params\n",
            "0         Non-trainable params\n",
            "59.6 K    Total params\n",
            "0.238     Total estimated model params size (MB)\n"
          ]
        },
        {
          "output_type": "display_data",
          "data": {
            "text/plain": [
              "Training: |          | 0/? [00:00<?, ?it/s]"
            ],
            "application/vnd.jupyter.widget-view+json": {
              "version_major": 2,
              "version_minor": 0,
              "model_id": "6933b84328ff457eb46861a1f9be3449"
            }
          },
          "metadata": {}
        },
        {
          "output_type": "stream",
          "name": "stderr",
          "text": [
            "INFO:pytorch_lightning.utilities.rank_zero:`Trainer.fit` stopped: `max_epochs=10` reached.\n"
          ]
        }
      ]
    },
    {
      "cell_type": "code",
      "source": [
        "#evaluation functions\n",
        "def loglikelihood_score(model, test_loader, device):\n",
        "    model = model.to(device)\n",
        "    model.eval()\n",
        "    loglikelihoods = []\n",
        "    with torch.no_grad():\n",
        "        for data, _ in test_loader:\n",
        "            data = data.to(device)\n",
        "            output = model(data)\n",
        "            log_likelihood = F.mse_loss(output, data, reduction='none').sum(dim=(1, 2, 3))\n",
        "            loglikelihoods.extend(log_likelihood.cpu().numpy())\n",
        "    return np.mean(loglikelihoods)\n",
        "\n",
        "def calculate_fid(real_features, generated_features):\n",
        "    mu1, sigma1 = real_features.mean(axis=0), np.cov(real_features, rowvar=False)\n",
        "    mu2, sigma2 = generated_features.mean(axis=0), np.cov(generated_features, rowvar=False)\n",
        "    ssdiff = np.sum((mu1 - mu2) ** 2.0)\n",
        "    covmean = linalg.sqrtm(sigma1.dot(sigma2), disp=False)[0]\n",
        "    if np.iscomplexobj(covmean):\n",
        "        covmean = covmean.real\n",
        "    fid = ssdiff + np.trace(sigma1 + sigma2 - 2.0 * covmean)\n",
        "    return fid\n",
        "\n",
        "def calculate_features(model, test_loader, device):\n",
        "    model.eval()\n",
        "    features = []\n",
        "    with torch.no_grad():\n",
        "        for data, _ in test_loader:\n",
        "            data = data.to(device)\n",
        "            output = model(data)\n",
        "            features.append(output.view(output.size(0), -1).cpu().numpy())\n",
        "    return np.concatenate(features, axis=0)\n",
        "\n",
        "# Train PixelCNN Variants\n",
        "variants = ['A', 'B', 'C']\n",
        "trained_models = {}\n",
        "for variant in variants:\n",
        "    pixelcnn_variant = PixelCNN(variant=variant).to(device)\n",
        "    trainer = pl.Trainer(max_epochs=10, accelerator=\"ddp\" if torch.cuda.is_available() else None)\n",
        "    trainer.fit(pixelcnn_variant, train_loader)\n",
        "    trained_models[variant] = pixelcnn_variant\n",
        "\n",
        "# Evaluate PixelCNN Variants\n",
        "for variant, model in trained_models.items():\n",
        "    log_likelihood = loglikelihood_score(model, test_loader, device)\n",
        "    print(f\"Log-Likelihood ({variant}):\", log_likelihood)\n",
        "\n",
        "# Calculate FID for PixelCNN Variants\n",
        "fid_scores = {}\n",
        "for i, variant_a in enumerate(variants):\n",
        "    for variant_b in variants[i+1:]:\n",
        "        real_features = calculate_features(trained_models[variant_a], test_loader, device)\n",
        "        generated_features = calculate_features(trained_models[variant_b], test_loader, device)\n",
        "        fid_score = calculate_fid(real_features, generated_features)\n",
        "        fid_scores[(variant_a, variant_b)] = fid_score\n",
        "        print(f\"Frechet Inception Distance ( {variant_a} vs Variant {variant_b}):\", fid_score)"
      ],
      "metadata": {
        "id": "8VIpRyqRlVx8"
      },
      "execution_count": null,
      "outputs": []
    },
    {
      "cell_type": "code",
      "source": [],
      "metadata": {
        "id": "lxiQN40WlV0B"
      },
      "execution_count": null,
      "outputs": []
    },
    {
      "cell_type": "code",
      "source": [],
      "metadata": {
        "id": "YuDlsTMTlV2I"
      },
      "execution_count": null,
      "outputs": []
    },
    {
      "cell_type": "code",
      "source": [],
      "metadata": {
        "id": "Xq7t2e1EhqtI"
      },
      "execution_count": null,
      "outputs": []
    },
    {
      "cell_type": "code",
      "source": [],
      "metadata": {
        "id": "_eRkuMdbZ-Hm"
      },
      "execution_count": null,
      "outputs": []
    },
    {
      "cell_type": "code",
      "source": [],
      "metadata": {
        "id": "wn1G1Toferzd"
      },
      "execution_count": null,
      "outputs": []
    },
    {
      "cell_type": "code",
      "source": [],
      "metadata": {
        "id": "sAxAaJlher25"
      },
      "execution_count": null,
      "outputs": []
    },
    {
      "cell_type": "code",
      "source": [],
      "metadata": {
        "id": "xoC0cPDmfXEd"
      },
      "execution_count": null,
      "outputs": []
    }
  ],
  "metadata": {
    "colab": {
      "provenance": []
    },
    "kernelspec": {
      "display_name": "Python 3",
      "name": "python3"
    },
    "language_info": {
      "name": "python"
    },
    "widgets": {
      "application/vnd.jupyter.widget-state+json": {
        "0537e0a6eee04c1da47469bdd6b15aee": {
          "model_module": "@jupyter-widgets/controls",
          "model_name": "HBoxModel",
          "model_module_version": "1.5.0",
          "state": {
            "_dom_classes": [],
            "_model_module": "@jupyter-widgets/controls",
            "_model_module_version": "1.5.0",
            "_model_name": "HBoxModel",
            "_view_count": null,
            "_view_module": "@jupyter-widgets/controls",
            "_view_module_version": "1.5.0",
            "_view_name": "HBoxView",
            "box_style": "",
            "children": [
              "IPY_MODEL_9fabd608f98543cb8b5904a322eac689",
              "IPY_MODEL_2182caad736c4eb69454ed4ef036c8cc",
              "IPY_MODEL_4eec8b2394624b1db89bf2ba8f7c94ad"
            ],
            "layout": "IPY_MODEL_e288c34438634a0c92962f53163480d4"
          }
        },
        "9fabd608f98543cb8b5904a322eac689": {
          "model_module": "@jupyter-widgets/controls",
          "model_name": "HTMLModel",
          "model_module_version": "1.5.0",
          "state": {
            "_dom_classes": [],
            "_model_module": "@jupyter-widgets/controls",
            "_model_module_version": "1.5.0",
            "_model_name": "HTMLModel",
            "_view_count": null,
            "_view_module": "@jupyter-widgets/controls",
            "_view_module_version": "1.5.0",
            "_view_name": "HTMLView",
            "description": "",
            "description_tooltip": null,
            "layout": "IPY_MODEL_f1723c64578145ca9489c8067bae484b",
            "placeholder": "​",
            "style": "IPY_MODEL_987be9338a97419d8954d3d359a1ac0c",
            "value": "Epoch 9: 100%"
          }
        },
        "2182caad736c4eb69454ed4ef036c8cc": {
          "model_module": "@jupyter-widgets/controls",
          "model_name": "FloatProgressModel",
          "model_module_version": "1.5.0",
          "state": {
            "_dom_classes": [],
            "_model_module": "@jupyter-widgets/controls",
            "_model_module_version": "1.5.0",
            "_model_name": "FloatProgressModel",
            "_view_count": null,
            "_view_module": "@jupyter-widgets/controls",
            "_view_module_version": "1.5.0",
            "_view_name": "ProgressView",
            "bar_style": "success",
            "description": "",
            "description_tooltip": null,
            "layout": "IPY_MODEL_9685527916cc4f5aa8e377a35b2c3497",
            "max": 391,
            "min": 0,
            "orientation": "horizontal",
            "style": "IPY_MODEL_b899db5aa5c24d27a40f04133279db96",
            "value": 391
          }
        },
        "4eec8b2394624b1db89bf2ba8f7c94ad": {
          "model_module": "@jupyter-widgets/controls",
          "model_name": "HTMLModel",
          "model_module_version": "1.5.0",
          "state": {
            "_dom_classes": [],
            "_model_module": "@jupyter-widgets/controls",
            "_model_module_version": "1.5.0",
            "_model_name": "HTMLModel",
            "_view_count": null,
            "_view_module": "@jupyter-widgets/controls",
            "_view_module_version": "1.5.0",
            "_view_name": "HTMLView",
            "description": "",
            "description_tooltip": null,
            "layout": "IPY_MODEL_e3039821ef664b1c94f1af503eeeb076",
            "placeholder": "​",
            "style": "IPY_MODEL_274e3a9a223842f58ef2bc83b1d1e6d5",
            "value": " 391/391 [00:11&lt;00:00, 35.09it/s, v_num=7]"
          }
        },
        "e288c34438634a0c92962f53163480d4": {
          "model_module": "@jupyter-widgets/base",
          "model_name": "LayoutModel",
          "model_module_version": "1.2.0",
          "state": {
            "_model_module": "@jupyter-widgets/base",
            "_model_module_version": "1.2.0",
            "_model_name": "LayoutModel",
            "_view_count": null,
            "_view_module": "@jupyter-widgets/base",
            "_view_module_version": "1.2.0",
            "_view_name": "LayoutView",
            "align_content": null,
            "align_items": null,
            "align_self": null,
            "border": null,
            "bottom": null,
            "display": "inline-flex",
            "flex": null,
            "flex_flow": "row wrap",
            "grid_area": null,
            "grid_auto_columns": null,
            "grid_auto_flow": null,
            "grid_auto_rows": null,
            "grid_column": null,
            "grid_gap": null,
            "grid_row": null,
            "grid_template_areas": null,
            "grid_template_columns": null,
            "grid_template_rows": null,
            "height": null,
            "justify_content": null,
            "justify_items": null,
            "left": null,
            "margin": null,
            "max_height": null,
            "max_width": null,
            "min_height": null,
            "min_width": null,
            "object_fit": null,
            "object_position": null,
            "order": null,
            "overflow": null,
            "overflow_x": null,
            "overflow_y": null,
            "padding": null,
            "right": null,
            "top": null,
            "visibility": null,
            "width": "100%"
          }
        },
        "f1723c64578145ca9489c8067bae484b": {
          "model_module": "@jupyter-widgets/base",
          "model_name": "LayoutModel",
          "model_module_version": "1.2.0",
          "state": {
            "_model_module": "@jupyter-widgets/base",
            "_model_module_version": "1.2.0",
            "_model_name": "LayoutModel",
            "_view_count": null,
            "_view_module": "@jupyter-widgets/base",
            "_view_module_version": "1.2.0",
            "_view_name": "LayoutView",
            "align_content": null,
            "align_items": null,
            "align_self": null,
            "border": null,
            "bottom": null,
            "display": null,
            "flex": null,
            "flex_flow": null,
            "grid_area": null,
            "grid_auto_columns": null,
            "grid_auto_flow": null,
            "grid_auto_rows": null,
            "grid_column": null,
            "grid_gap": null,
            "grid_row": null,
            "grid_template_areas": null,
            "grid_template_columns": null,
            "grid_template_rows": null,
            "height": null,
            "justify_content": null,
            "justify_items": null,
            "left": null,
            "margin": null,
            "max_height": null,
            "max_width": null,
            "min_height": null,
            "min_width": null,
            "object_fit": null,
            "object_position": null,
            "order": null,
            "overflow": null,
            "overflow_x": null,
            "overflow_y": null,
            "padding": null,
            "right": null,
            "top": null,
            "visibility": null,
            "width": null
          }
        },
        "987be9338a97419d8954d3d359a1ac0c": {
          "model_module": "@jupyter-widgets/controls",
          "model_name": "DescriptionStyleModel",
          "model_module_version": "1.5.0",
          "state": {
            "_model_module": "@jupyter-widgets/controls",
            "_model_module_version": "1.5.0",
            "_model_name": "DescriptionStyleModel",
            "_view_count": null,
            "_view_module": "@jupyter-widgets/base",
            "_view_module_version": "1.2.0",
            "_view_name": "StyleView",
            "description_width": ""
          }
        },
        "9685527916cc4f5aa8e377a35b2c3497": {
          "model_module": "@jupyter-widgets/base",
          "model_name": "LayoutModel",
          "model_module_version": "1.2.0",
          "state": {
            "_model_module": "@jupyter-widgets/base",
            "_model_module_version": "1.2.0",
            "_model_name": "LayoutModel",
            "_view_count": null,
            "_view_module": "@jupyter-widgets/base",
            "_view_module_version": "1.2.0",
            "_view_name": "LayoutView",
            "align_content": null,
            "align_items": null,
            "align_self": null,
            "border": null,
            "bottom": null,
            "display": null,
            "flex": "2",
            "flex_flow": null,
            "grid_area": null,
            "grid_auto_columns": null,
            "grid_auto_flow": null,
            "grid_auto_rows": null,
            "grid_column": null,
            "grid_gap": null,
            "grid_row": null,
            "grid_template_areas": null,
            "grid_template_columns": null,
            "grid_template_rows": null,
            "height": null,
            "justify_content": null,
            "justify_items": null,
            "left": null,
            "margin": null,
            "max_height": null,
            "max_width": null,
            "min_height": null,
            "min_width": null,
            "object_fit": null,
            "object_position": null,
            "order": null,
            "overflow": null,
            "overflow_x": null,
            "overflow_y": null,
            "padding": null,
            "right": null,
            "top": null,
            "visibility": null,
            "width": null
          }
        },
        "b899db5aa5c24d27a40f04133279db96": {
          "model_module": "@jupyter-widgets/controls",
          "model_name": "ProgressStyleModel",
          "model_module_version": "1.5.0",
          "state": {
            "_model_module": "@jupyter-widgets/controls",
            "_model_module_version": "1.5.0",
            "_model_name": "ProgressStyleModel",
            "_view_count": null,
            "_view_module": "@jupyter-widgets/base",
            "_view_module_version": "1.2.0",
            "_view_name": "StyleView",
            "bar_color": null,
            "description_width": ""
          }
        },
        "e3039821ef664b1c94f1af503eeeb076": {
          "model_module": "@jupyter-widgets/base",
          "model_name": "LayoutModel",
          "model_module_version": "1.2.0",
          "state": {
            "_model_module": "@jupyter-widgets/base",
            "_model_module_version": "1.2.0",
            "_model_name": "LayoutModel",
            "_view_count": null,
            "_view_module": "@jupyter-widgets/base",
            "_view_module_version": "1.2.0",
            "_view_name": "LayoutView",
            "align_content": null,
            "align_items": null,
            "align_self": null,
            "border": null,
            "bottom": null,
            "display": null,
            "flex": null,
            "flex_flow": null,
            "grid_area": null,
            "grid_auto_columns": null,
            "grid_auto_flow": null,
            "grid_auto_rows": null,
            "grid_column": null,
            "grid_gap": null,
            "grid_row": null,
            "grid_template_areas": null,
            "grid_template_columns": null,
            "grid_template_rows": null,
            "height": null,
            "justify_content": null,
            "justify_items": null,
            "left": null,
            "margin": null,
            "max_height": null,
            "max_width": null,
            "min_height": null,
            "min_width": null,
            "object_fit": null,
            "object_position": null,
            "order": null,
            "overflow": null,
            "overflow_x": null,
            "overflow_y": null,
            "padding": null,
            "right": null,
            "top": null,
            "visibility": null,
            "width": null
          }
        },
        "274e3a9a223842f58ef2bc83b1d1e6d5": {
          "model_module": "@jupyter-widgets/controls",
          "model_name": "DescriptionStyleModel",
          "model_module_version": "1.5.0",
          "state": {
            "_model_module": "@jupyter-widgets/controls",
            "_model_module_version": "1.5.0",
            "_model_name": "DescriptionStyleModel",
            "_view_count": null,
            "_view_module": "@jupyter-widgets/base",
            "_view_module_version": "1.2.0",
            "_view_name": "StyleView",
            "description_width": ""
          }
        },
        "f52d07f539d04702b21c914300da8649": {
          "model_module": "@jupyter-widgets/controls",
          "model_name": "HBoxModel",
          "model_module_version": "1.5.0",
          "state": {
            "_dom_classes": [],
            "_model_module": "@jupyter-widgets/controls",
            "_model_module_version": "1.5.0",
            "_model_name": "HBoxModel",
            "_view_count": null,
            "_view_module": "@jupyter-widgets/controls",
            "_view_module_version": "1.5.0",
            "_view_name": "HBoxView",
            "box_style": "",
            "children": [
              "IPY_MODEL_5bbd1dab50604f42a69713ffa7824627",
              "IPY_MODEL_eb9ec7bca1b64eae8e8db44da71c576d",
              "IPY_MODEL_621cc4433e5444ada206b9c7620c78cd"
            ],
            "layout": "IPY_MODEL_a76239d5872b423b837eb4c2e9267ebb"
          }
        },
        "5bbd1dab50604f42a69713ffa7824627": {
          "model_module": "@jupyter-widgets/controls",
          "model_name": "HTMLModel",
          "model_module_version": "1.5.0",
          "state": {
            "_dom_classes": [],
            "_model_module": "@jupyter-widgets/controls",
            "_model_module_version": "1.5.0",
            "_model_name": "HTMLModel",
            "_view_count": null,
            "_view_module": "@jupyter-widgets/controls",
            "_view_module_version": "1.5.0",
            "_view_name": "HTMLView",
            "description": "",
            "description_tooltip": null,
            "layout": "IPY_MODEL_0e10bcb7e8fe4b82a2e60c53b68260e7",
            "placeholder": "​",
            "style": "IPY_MODEL_5c0b14518cae4b5eac3f63c8e8e7ef9e",
            "value": "Epoch 9: 100%"
          }
        },
        "eb9ec7bca1b64eae8e8db44da71c576d": {
          "model_module": "@jupyter-widgets/controls",
          "model_name": "FloatProgressModel",
          "model_module_version": "1.5.0",
          "state": {
            "_dom_classes": [],
            "_model_module": "@jupyter-widgets/controls",
            "_model_module_version": "1.5.0",
            "_model_name": "FloatProgressModel",
            "_view_count": null,
            "_view_module": "@jupyter-widgets/controls",
            "_view_module_version": "1.5.0",
            "_view_name": "ProgressView",
            "bar_style": "success",
            "description": "",
            "description_tooltip": null,
            "layout": "IPY_MODEL_ef0d81adf60240089529a0d0e7bed33e",
            "max": 391,
            "min": 0,
            "orientation": "horizontal",
            "style": "IPY_MODEL_103892b6ce094a6f963e57ceae8cbc17",
            "value": 391
          }
        },
        "621cc4433e5444ada206b9c7620c78cd": {
          "model_module": "@jupyter-widgets/controls",
          "model_name": "HTMLModel",
          "model_module_version": "1.5.0",
          "state": {
            "_dom_classes": [],
            "_model_module": "@jupyter-widgets/controls",
            "_model_module_version": "1.5.0",
            "_model_name": "HTMLModel",
            "_view_count": null,
            "_view_module": "@jupyter-widgets/controls",
            "_view_module_version": "1.5.0",
            "_view_name": "HTMLView",
            "description": "",
            "description_tooltip": null,
            "layout": "IPY_MODEL_46f83aeafcfb4b7b8ea97aa4d08a62f5",
            "placeholder": "​",
            "style": "IPY_MODEL_59fdd40ccb2b4bc58b22f0a325ddbf40",
            "value": " 391/391 [00:09&lt;00:00, 42.35it/s, v_num=8]"
          }
        },
        "a76239d5872b423b837eb4c2e9267ebb": {
          "model_module": "@jupyter-widgets/base",
          "model_name": "LayoutModel",
          "model_module_version": "1.2.0",
          "state": {
            "_model_module": "@jupyter-widgets/base",
            "_model_module_version": "1.2.0",
            "_model_name": "LayoutModel",
            "_view_count": null,
            "_view_module": "@jupyter-widgets/base",
            "_view_module_version": "1.2.0",
            "_view_name": "LayoutView",
            "align_content": null,
            "align_items": null,
            "align_self": null,
            "border": null,
            "bottom": null,
            "display": "inline-flex",
            "flex": null,
            "flex_flow": "row wrap",
            "grid_area": null,
            "grid_auto_columns": null,
            "grid_auto_flow": null,
            "grid_auto_rows": null,
            "grid_column": null,
            "grid_gap": null,
            "grid_row": null,
            "grid_template_areas": null,
            "grid_template_columns": null,
            "grid_template_rows": null,
            "height": null,
            "justify_content": null,
            "justify_items": null,
            "left": null,
            "margin": null,
            "max_height": null,
            "max_width": null,
            "min_height": null,
            "min_width": null,
            "object_fit": null,
            "object_position": null,
            "order": null,
            "overflow": null,
            "overflow_x": null,
            "overflow_y": null,
            "padding": null,
            "right": null,
            "top": null,
            "visibility": null,
            "width": "100%"
          }
        },
        "0e10bcb7e8fe4b82a2e60c53b68260e7": {
          "model_module": "@jupyter-widgets/base",
          "model_name": "LayoutModel",
          "model_module_version": "1.2.0",
          "state": {
            "_model_module": "@jupyter-widgets/base",
            "_model_module_version": "1.2.0",
            "_model_name": "LayoutModel",
            "_view_count": null,
            "_view_module": "@jupyter-widgets/base",
            "_view_module_version": "1.2.0",
            "_view_name": "LayoutView",
            "align_content": null,
            "align_items": null,
            "align_self": null,
            "border": null,
            "bottom": null,
            "display": null,
            "flex": null,
            "flex_flow": null,
            "grid_area": null,
            "grid_auto_columns": null,
            "grid_auto_flow": null,
            "grid_auto_rows": null,
            "grid_column": null,
            "grid_gap": null,
            "grid_row": null,
            "grid_template_areas": null,
            "grid_template_columns": null,
            "grid_template_rows": null,
            "height": null,
            "justify_content": null,
            "justify_items": null,
            "left": null,
            "margin": null,
            "max_height": null,
            "max_width": null,
            "min_height": null,
            "min_width": null,
            "object_fit": null,
            "object_position": null,
            "order": null,
            "overflow": null,
            "overflow_x": null,
            "overflow_y": null,
            "padding": null,
            "right": null,
            "top": null,
            "visibility": null,
            "width": null
          }
        },
        "5c0b14518cae4b5eac3f63c8e8e7ef9e": {
          "model_module": "@jupyter-widgets/controls",
          "model_name": "DescriptionStyleModel",
          "model_module_version": "1.5.0",
          "state": {
            "_model_module": "@jupyter-widgets/controls",
            "_model_module_version": "1.5.0",
            "_model_name": "DescriptionStyleModel",
            "_view_count": null,
            "_view_module": "@jupyter-widgets/base",
            "_view_module_version": "1.2.0",
            "_view_name": "StyleView",
            "description_width": ""
          }
        },
        "ef0d81adf60240089529a0d0e7bed33e": {
          "model_module": "@jupyter-widgets/base",
          "model_name": "LayoutModel",
          "model_module_version": "1.2.0",
          "state": {
            "_model_module": "@jupyter-widgets/base",
            "_model_module_version": "1.2.0",
            "_model_name": "LayoutModel",
            "_view_count": null,
            "_view_module": "@jupyter-widgets/base",
            "_view_module_version": "1.2.0",
            "_view_name": "LayoutView",
            "align_content": null,
            "align_items": null,
            "align_self": null,
            "border": null,
            "bottom": null,
            "display": null,
            "flex": "2",
            "flex_flow": null,
            "grid_area": null,
            "grid_auto_columns": null,
            "grid_auto_flow": null,
            "grid_auto_rows": null,
            "grid_column": null,
            "grid_gap": null,
            "grid_row": null,
            "grid_template_areas": null,
            "grid_template_columns": null,
            "grid_template_rows": null,
            "height": null,
            "justify_content": null,
            "justify_items": null,
            "left": null,
            "margin": null,
            "max_height": null,
            "max_width": null,
            "min_height": null,
            "min_width": null,
            "object_fit": null,
            "object_position": null,
            "order": null,
            "overflow": null,
            "overflow_x": null,
            "overflow_y": null,
            "padding": null,
            "right": null,
            "top": null,
            "visibility": null,
            "width": null
          }
        },
        "103892b6ce094a6f963e57ceae8cbc17": {
          "model_module": "@jupyter-widgets/controls",
          "model_name": "ProgressStyleModel",
          "model_module_version": "1.5.0",
          "state": {
            "_model_module": "@jupyter-widgets/controls",
            "_model_module_version": "1.5.0",
            "_model_name": "ProgressStyleModel",
            "_view_count": null,
            "_view_module": "@jupyter-widgets/base",
            "_view_module_version": "1.2.0",
            "_view_name": "StyleView",
            "bar_color": null,
            "description_width": ""
          }
        },
        "46f83aeafcfb4b7b8ea97aa4d08a62f5": {
          "model_module": "@jupyter-widgets/base",
          "model_name": "LayoutModel",
          "model_module_version": "1.2.0",
          "state": {
            "_model_module": "@jupyter-widgets/base",
            "_model_module_version": "1.2.0",
            "_model_name": "LayoutModel",
            "_view_count": null,
            "_view_module": "@jupyter-widgets/base",
            "_view_module_version": "1.2.0",
            "_view_name": "LayoutView",
            "align_content": null,
            "align_items": null,
            "align_self": null,
            "border": null,
            "bottom": null,
            "display": null,
            "flex": null,
            "flex_flow": null,
            "grid_area": null,
            "grid_auto_columns": null,
            "grid_auto_flow": null,
            "grid_auto_rows": null,
            "grid_column": null,
            "grid_gap": null,
            "grid_row": null,
            "grid_template_areas": null,
            "grid_template_columns": null,
            "grid_template_rows": null,
            "height": null,
            "justify_content": null,
            "justify_items": null,
            "left": null,
            "margin": null,
            "max_height": null,
            "max_width": null,
            "min_height": null,
            "min_width": null,
            "object_fit": null,
            "object_position": null,
            "order": null,
            "overflow": null,
            "overflow_x": null,
            "overflow_y": null,
            "padding": null,
            "right": null,
            "top": null,
            "visibility": null,
            "width": null
          }
        },
        "59fdd40ccb2b4bc58b22f0a325ddbf40": {
          "model_module": "@jupyter-widgets/controls",
          "model_name": "DescriptionStyleModel",
          "model_module_version": "1.5.0",
          "state": {
            "_model_module": "@jupyter-widgets/controls",
            "_model_module_version": "1.5.0",
            "_model_name": "DescriptionStyleModel",
            "_view_count": null,
            "_view_module": "@jupyter-widgets/base",
            "_view_module_version": "1.2.0",
            "_view_name": "StyleView",
            "description_width": ""
          }
        },
        "6933b84328ff457eb46861a1f9be3449": {
          "model_module": "@jupyter-widgets/controls",
          "model_name": "HBoxModel",
          "model_module_version": "1.5.0",
          "state": {
            "_dom_classes": [],
            "_model_module": "@jupyter-widgets/controls",
            "_model_module_version": "1.5.0",
            "_model_name": "HBoxModel",
            "_view_count": null,
            "_view_module": "@jupyter-widgets/controls",
            "_view_module_version": "1.5.0",
            "_view_name": "HBoxView",
            "box_style": "",
            "children": [
              "IPY_MODEL_9bee5c0399f04e888f766103ffb6051a",
              "IPY_MODEL_4fa17bd2fedd411b9e232c8028a894cf",
              "IPY_MODEL_25efd163c1644a77b581037d73051d2d"
            ],
            "layout": "IPY_MODEL_20570c7540024c7ea62798d7e68ce3a1"
          }
        },
        "9bee5c0399f04e888f766103ffb6051a": {
          "model_module": "@jupyter-widgets/controls",
          "model_name": "HTMLModel",
          "model_module_version": "1.5.0",
          "state": {
            "_dom_classes": [],
            "_model_module": "@jupyter-widgets/controls",
            "_model_module_version": "1.5.0",
            "_model_name": "HTMLModel",
            "_view_count": null,
            "_view_module": "@jupyter-widgets/controls",
            "_view_module_version": "1.5.0",
            "_view_name": "HTMLView",
            "description": "",
            "description_tooltip": null,
            "layout": "IPY_MODEL_7576bbd5e98443b78bbca00c155d743e",
            "placeholder": "​",
            "style": "IPY_MODEL_a5d12cc249554e6da241eaa397ec482a",
            "value": "Epoch 9: 100%"
          }
        },
        "4fa17bd2fedd411b9e232c8028a894cf": {
          "model_module": "@jupyter-widgets/controls",
          "model_name": "FloatProgressModel",
          "model_module_version": "1.5.0",
          "state": {
            "_dom_classes": [],
            "_model_module": "@jupyter-widgets/controls",
            "_model_module_version": "1.5.0",
            "_model_name": "FloatProgressModel",
            "_view_count": null,
            "_view_module": "@jupyter-widgets/controls",
            "_view_module_version": "1.5.0",
            "_view_name": "ProgressView",
            "bar_style": "success",
            "description": "",
            "description_tooltip": null,
            "layout": "IPY_MODEL_b221621bc9494f1cae149991076c0746",
            "max": 391,
            "min": 0,
            "orientation": "horizontal",
            "style": "IPY_MODEL_967b656851204c729484e382fcb9b55d",
            "value": 391
          }
        },
        "25efd163c1644a77b581037d73051d2d": {
          "model_module": "@jupyter-widgets/controls",
          "model_name": "HTMLModel",
          "model_module_version": "1.5.0",
          "state": {
            "_dom_classes": [],
            "_model_module": "@jupyter-widgets/controls",
            "_model_module_version": "1.5.0",
            "_model_name": "HTMLModel",
            "_view_count": null,
            "_view_module": "@jupyter-widgets/controls",
            "_view_module_version": "1.5.0",
            "_view_name": "HTMLView",
            "description": "",
            "description_tooltip": null,
            "layout": "IPY_MODEL_37db3f81f1db4e73a4980ca251bf6baa",
            "placeholder": "​",
            "style": "IPY_MODEL_918bd04f1b024c829118f30f4e3749fa",
            "value": " 391/391 [00:10&lt;00:00, 36.74it/s, v_num=9]"
          }
        },
        "20570c7540024c7ea62798d7e68ce3a1": {
          "model_module": "@jupyter-widgets/base",
          "model_name": "LayoutModel",
          "model_module_version": "1.2.0",
          "state": {
            "_model_module": "@jupyter-widgets/base",
            "_model_module_version": "1.2.0",
            "_model_name": "LayoutModel",
            "_view_count": null,
            "_view_module": "@jupyter-widgets/base",
            "_view_module_version": "1.2.0",
            "_view_name": "LayoutView",
            "align_content": null,
            "align_items": null,
            "align_self": null,
            "border": null,
            "bottom": null,
            "display": "inline-flex",
            "flex": null,
            "flex_flow": "row wrap",
            "grid_area": null,
            "grid_auto_columns": null,
            "grid_auto_flow": null,
            "grid_auto_rows": null,
            "grid_column": null,
            "grid_gap": null,
            "grid_row": null,
            "grid_template_areas": null,
            "grid_template_columns": null,
            "grid_template_rows": null,
            "height": null,
            "justify_content": null,
            "justify_items": null,
            "left": null,
            "margin": null,
            "max_height": null,
            "max_width": null,
            "min_height": null,
            "min_width": null,
            "object_fit": null,
            "object_position": null,
            "order": null,
            "overflow": null,
            "overflow_x": null,
            "overflow_y": null,
            "padding": null,
            "right": null,
            "top": null,
            "visibility": null,
            "width": "100%"
          }
        },
        "7576bbd5e98443b78bbca00c155d743e": {
          "model_module": "@jupyter-widgets/base",
          "model_name": "LayoutModel",
          "model_module_version": "1.2.0",
          "state": {
            "_model_module": "@jupyter-widgets/base",
            "_model_module_version": "1.2.0",
            "_model_name": "LayoutModel",
            "_view_count": null,
            "_view_module": "@jupyter-widgets/base",
            "_view_module_version": "1.2.0",
            "_view_name": "LayoutView",
            "align_content": null,
            "align_items": null,
            "align_self": null,
            "border": null,
            "bottom": null,
            "display": null,
            "flex": null,
            "flex_flow": null,
            "grid_area": null,
            "grid_auto_columns": null,
            "grid_auto_flow": null,
            "grid_auto_rows": null,
            "grid_column": null,
            "grid_gap": null,
            "grid_row": null,
            "grid_template_areas": null,
            "grid_template_columns": null,
            "grid_template_rows": null,
            "height": null,
            "justify_content": null,
            "justify_items": null,
            "left": null,
            "margin": null,
            "max_height": null,
            "max_width": null,
            "min_height": null,
            "min_width": null,
            "object_fit": null,
            "object_position": null,
            "order": null,
            "overflow": null,
            "overflow_x": null,
            "overflow_y": null,
            "padding": null,
            "right": null,
            "top": null,
            "visibility": null,
            "width": null
          }
        },
        "a5d12cc249554e6da241eaa397ec482a": {
          "model_module": "@jupyter-widgets/controls",
          "model_name": "DescriptionStyleModel",
          "model_module_version": "1.5.0",
          "state": {
            "_model_module": "@jupyter-widgets/controls",
            "_model_module_version": "1.5.0",
            "_model_name": "DescriptionStyleModel",
            "_view_count": null,
            "_view_module": "@jupyter-widgets/base",
            "_view_module_version": "1.2.0",
            "_view_name": "StyleView",
            "description_width": ""
          }
        },
        "b221621bc9494f1cae149991076c0746": {
          "model_module": "@jupyter-widgets/base",
          "model_name": "LayoutModel",
          "model_module_version": "1.2.0",
          "state": {
            "_model_module": "@jupyter-widgets/base",
            "_model_module_version": "1.2.0",
            "_model_name": "LayoutModel",
            "_view_count": null,
            "_view_module": "@jupyter-widgets/base",
            "_view_module_version": "1.2.0",
            "_view_name": "LayoutView",
            "align_content": null,
            "align_items": null,
            "align_self": null,
            "border": null,
            "bottom": null,
            "display": null,
            "flex": "2",
            "flex_flow": null,
            "grid_area": null,
            "grid_auto_columns": null,
            "grid_auto_flow": null,
            "grid_auto_rows": null,
            "grid_column": null,
            "grid_gap": null,
            "grid_row": null,
            "grid_template_areas": null,
            "grid_template_columns": null,
            "grid_template_rows": null,
            "height": null,
            "justify_content": null,
            "justify_items": null,
            "left": null,
            "margin": null,
            "max_height": null,
            "max_width": null,
            "min_height": null,
            "min_width": null,
            "object_fit": null,
            "object_position": null,
            "order": null,
            "overflow": null,
            "overflow_x": null,
            "overflow_y": null,
            "padding": null,
            "right": null,
            "top": null,
            "visibility": null,
            "width": null
          }
        },
        "967b656851204c729484e382fcb9b55d": {
          "model_module": "@jupyter-widgets/controls",
          "model_name": "ProgressStyleModel",
          "model_module_version": "1.5.0",
          "state": {
            "_model_module": "@jupyter-widgets/controls",
            "_model_module_version": "1.5.0",
            "_model_name": "ProgressStyleModel",
            "_view_count": null,
            "_view_module": "@jupyter-widgets/base",
            "_view_module_version": "1.2.0",
            "_view_name": "StyleView",
            "bar_color": null,
            "description_width": ""
          }
        },
        "37db3f81f1db4e73a4980ca251bf6baa": {
          "model_module": "@jupyter-widgets/base",
          "model_name": "LayoutModel",
          "model_module_version": "1.2.0",
          "state": {
            "_model_module": "@jupyter-widgets/base",
            "_model_module_version": "1.2.0",
            "_model_name": "LayoutModel",
            "_view_count": null,
            "_view_module": "@jupyter-widgets/base",
            "_view_module_version": "1.2.0",
            "_view_name": "LayoutView",
            "align_content": null,
            "align_items": null,
            "align_self": null,
            "border": null,
            "bottom": null,
            "display": null,
            "flex": null,
            "flex_flow": null,
            "grid_area": null,
            "grid_auto_columns": null,
            "grid_auto_flow": null,
            "grid_auto_rows": null,
            "grid_column": null,
            "grid_gap": null,
            "grid_row": null,
            "grid_template_areas": null,
            "grid_template_columns": null,
            "grid_template_rows": null,
            "height": null,
            "justify_content": null,
            "justify_items": null,
            "left": null,
            "margin": null,
            "max_height": null,
            "max_width": null,
            "min_height": null,
            "min_width": null,
            "object_fit": null,
            "object_position": null,
            "order": null,
            "overflow": null,
            "overflow_x": null,
            "overflow_y": null,
            "padding": null,
            "right": null,
            "top": null,
            "visibility": null,
            "width": null
          }
        },
        "918bd04f1b024c829118f30f4e3749fa": {
          "model_module": "@jupyter-widgets/controls",
          "model_name": "DescriptionStyleModel",
          "model_module_version": "1.5.0",
          "state": {
            "_model_module": "@jupyter-widgets/controls",
            "_model_module_version": "1.5.0",
            "_model_name": "DescriptionStyleModel",
            "_view_count": null,
            "_view_module": "@jupyter-widgets/base",
            "_view_module_version": "1.2.0",
            "_view_name": "StyleView",
            "description_width": ""
          }
        }
      }
    }
  },
  "nbformat": 4,
  "nbformat_minor": 0
}